{
 "cells": [
  {
   "cell_type": "markdown",
   "metadata": {},
   "source": [
    "# Phase 4: Template-to-Template Evaluation\n",
    "\n",
    "This notebook contains results evaluating the correspondence between BigBrain and ICBM2009b. Use Case for BigBrain vs ICBM2009b (Sym)."
   ]
  },
  {
   "cell_type": "code",
   "execution_count": 1,
   "metadata": {},
   "outputs": [],
   "source": [
    "# initialize libraries\n",
    "library(plyr)\n",
    "library(digest)\n",
    "library(reshape2)\n",
    "library(ggplot2)"
   ]
  },
  {
   "cell_type": "code",
   "execution_count": 2,
   "metadata": {},
   "outputs": [],
   "source": [
    "# useful functions\n",
    "\n",
    "# calculate the distance between two sets of coordinates\n",
    "dist3D <- function(coord1, coord2) { # vector X,Y,Z\n",
    "        xdist <- coord1[1] - coord2[1] # could also write as coord1$X, etc.\n",
    "        ydist <- coord1[2] - coord2[2]\n",
    "        zdist <- coord1[3] - coord2[3]\n",
    "        euclidean_dist <- sqrt(xdist^2+ydist^2+zdist^2)\n",
    "        return(as.numeric(unlist(euclidean_dist)))\n",
    "}\n",
    "\n",
    "# calculate the pairwise distance between an array of 3D coordinates\n",
    "pairwise_dist3D <- function(temp_coords) { # labeled X,Y,Z\n",
    "        N <- length(temp_coords$X)\n",
    "        dist_vec <- rep(0,N) # create vector\n",
    "        sum_dist <- 0 # initialize to zero\n",
    "        count <- 0\n",
    "        for (i in 1:(N-1)) {\n",
    "                for (j in (i+1):N) {\n",
    "                        if (i != j) {\n",
    "                                count <- count + 1\n",
    "                                first_coord <- temp_coords[i,]\n",
    "                                second_coord <- temp_coords[j,]\n",
    "                                curr_dist <- dist3D(first_coord, second_coord)\n",
    "                                sum_dist <- sum_dist + curr_dist\n",
    "                                dist_vec[count] <- curr_dist\n",
    "                        }\n",
    "                }\n",
    "        }\n",
    "        return(c(as.numeric(unlist(mean(dist_vec))),as.numeric(unlist(sd(dist_vec)))))\n",
    "}"
   ]
  },
  {
   "cell_type": "code",
   "execution_count": 3,
   "metadata": {},
   "outputs": [],
   "source": [
    "# initialize variables and load in raw fcsv data into df_raters\n",
    "setwd('~/GitHub/afids-analysis/data/PHASE4_input_afid/')\n",
    "\n",
    "df_afid <- read.table('~/GitHub/afids-analysis/etc/afids.csv', sep=\",\", header=TRUE)\n",
    "\n",
    "df_raters <- data.frame(fid=integer(),X=double(),Y=double(),Z=double(),rater=factor(),\n",
    "                        template=factor(),mri_type=factor(),session=integer(),date=integer(),\n",
    "                        name=character(),description=character(),stringsAsFactors = FALSE)\n",
    "csv_files <- list.files(\".\", \"*.fcsv\")\n",
    "\n",
    "for (i in 1:length(csv_files)) {\n",
    "    curr_split <- unlist(strsplit(csv_files[i],\"_\"))\n",
    "    if (length(curr_split)>1) { # extract name and session data\n",
    "        rater_template <- curr_split[1]\n",
    "        rater_mri_type <- curr_split[2]\n",
    "        rater_name <- curr_split[3]\n",
    "        rater_session <- as.numeric(curr_split[4])\n",
    "        rater_date <- as.numeric(unlist(strsplit(curr_split[5],\"[.]\"))[1])\n",
    "    }\n",
    "    curr_rater <- read.table(csv_files[i], header=FALSE, sep=\",\")\n",
    "    df_rater <- data.frame(fid = 1:length(curr_rater$V1))\n",
    "\n",
    "    df_rater <- cbind(df_rater,X=curr_rater[2],Y=curr_rater[3],Z=curr_rater[4],rater=rater_name,\n",
    "                    template=rater_template,mri_type=rater_mri_type,\n",
    "                    session=rater_session,date=rater_date,name=curr_rater[12],\n",
    "                    description=curr_rater[13])\n",
    "  \n",
    "    df_rater <- rename(df_rater, c(\"V2\"=\"X\",\"V3\"=\"Y\",\"V4\"=\"Z\",\"V12\"=\"name\",\"V13\"=\"description\"))\n",
    "    df_raters <- rbind(df_raters,df_rater)\n",
    "}\n",
    "\n",
    "levels(df_raters$rater) <- 1:8\n",
    "#str(df_raters)\n",
    "\n",
    "# bring in ICBM2009bAsym\n",
    "df_ICBM2009bAsym_mean <- data.frame(fid=integer(),X=double(),Y=double(),Z=double(),stringsAsFactors = FALSE)\n",
    "ICBM2009bAsym_file <- \"~/GitHub/afids-analysis/data/PHASE1_output_afid_postQC/MNI152NLin2009bAsym_MEAN_postQC.fcsv\"\n",
    "\n",
    "curr_template <- read.table(ICBM2009bAsym_file, header=FALSE, sep=\",\")\n",
    "df_template <- data.frame(fid = 1:length(curr_template$V1))\n",
    "df_template <- cbind(df_template,X=curr_template[2],Y=curr_template[3],Z=curr_template[4])\n",
    "df_template <- rename(df_template, c(\"V2\"=\"X\",\"V3\"=\"Y\",\"V4\"=\"Z\"))\n",
    "df_ICBM2009bAsym_mean <- df_template\n"
   ]
  },
  {
   "cell_type": "code",
   "execution_count": 4,
   "metadata": {},
   "outputs": [],
   "source": [
    "# mean coordinates for each landmark placement for each template/session\n",
    "df_mean <- ddply(df_raters, .(template, fid), summarize, X=mean(X), Y=mean(Y), Z=mean(Z))\n",
    "\n",
    "# initialize\n",
    "df_raters$mean_AFLE <- rep(0, length(df_raters$fid))\n",
    "df_raters$outlier <- NA\n",
    "\n",
    "df_raters$xdist <- NA\n",
    "df_raters$ydist <- NA\n",
    "df_raters$zdist <- NA\n",
    "for (i in 1:dim(df_raters)[1]) {\n",
    "        curr_rater <- df_raters[i,]\n",
    "        \n",
    "        # set current mean based on template, session, fid\n",
    "        mean_raters <- subset(df_mean, template == curr_rater$template & fid == curr_rater$fid)\n",
    "        \n",
    "        df_raters[i,]$xdist <- curr_rater$X - mean_raters$X\n",
    "        df_raters[i,]$ydist <- curr_rater$Y - mean_raters$Y\n",
    "        df_raters[i,]$zdist <- curr_rater$Z - mean_raters$Z\n",
    "        curr_coords <- curr_rater[,2:4]\n",
    "        mean_coords <- mean_raters[,3:5]\n",
    "        df_raters[i,]$mean_AFLE <- dist3D(curr_coords, mean_coords)\n",
    "        df_raters[i,]$outlier <- (df_raters[i,]$mean_AFLE > 10) # focus on true outliers (1cm+) first\n",
    "}"
   ]
  },
  {
   "cell_type": "markdown",
   "metadata": {},
   "source": [
    "# Validation of AFID Placements\n",
    "\n",
    "Two expert raters and one additional expert rater overlooking the placements."
   ]
  },
  {
   "cell_type": "code",
   "execution_count": 5,
   "metadata": {},
   "outputs": [
    {
     "data": {
      "text/html": [
       "'Total: 0.59 +/- 0.40 mm; Outliers: 0/128 (0.00%)'"
      ],
      "text/latex": [
       "'Total: 0.59 +/- 0.40 mm; Outliers: 0/128 (0.00\\%)'"
      ],
      "text/markdown": [
       "'Total: 0.59 +/- 0.40 mm; Outliers: 0/128 (0.00%)'"
      ],
      "text/plain": [
       "[1] \"Total: 0.59 +/- 0.40 mm; Outliers: 0/128 (0.00%)\""
      ]
     },
     "metadata": {},
     "output_type": "display_data"
    },
    {
     "data": {
      "text/html": [
       "<table>\n",
       "<thead><tr><th scope=col>template</th><th scope=col>mean</th><th scope=col>sd</th></tr></thead>\n",
       "<tbody>\n",
       "\t<tr><td>BigBrain          </td><td>0.63              </td><td>0.50              </td></tr>\n",
       "\t<tr><td>MNI152NLin2009bSym</td><td>0.55              </td><td>0.26              </td></tr>\n",
       "</tbody>\n",
       "</table>\n"
      ],
      "text/latex": [
       "\\begin{tabular}{r|lll}\n",
       " template & mean & sd\\\\\n",
       "\\hline\n",
       "\t BigBrain           & 0.63               & 0.50              \\\\\n",
       "\t MNI152NLin2009bSym & 0.55               & 0.26              \\\\\n",
       "\\end{tabular}\n"
      ],
      "text/markdown": [
       "\n",
       "template | mean | sd | \n",
       "|---|---|\n",
       "| BigBrain           | 0.63               | 0.50               | \n",
       "| MNI152NLin2009bSym | 0.55               | 0.26               | \n",
       "\n",
       "\n"
      ],
      "text/plain": [
       "  template           mean sd  \n",
       "1 BigBrain           0.63 0.50\n",
       "2 MNI152NLin2009bSym 0.55 0.26"
      ]
     },
     "metadata": {},
     "output_type": "display_data"
    }
   ],
   "source": [
    "# summary of findings\n",
    "all_subjects <- subset(df_raters, session > 0) # ignore session 0 which was from the group tutorial\n",
    "num_outliers <- sum(subset(all_subjects, outlier == TRUE)$outlier)\n",
    "num_total <- length(all_subjects$outlier)\n",
    "\n",
    "sprintf( \"Total: %.2f +/- %.2f mm; Outliers: %d/%d (%.2f%%)\",\n",
    "        mean(all_subjects$mean_AFLE), sd(all_subjects$mean_AFLE),\n",
    "        num_outliers, num_total, (num_outliers/num_total)*100 )\n",
    "\n",
    "# summary of results for each scan that was annotated\n",
    "summary_subjects_df <- ddply(df_raters, .(template), summarize, mean=mean(mean_AFLE), sd=sd(mean_AFLE))\n",
    "summary_bbsym_df <- ddply(subset(df_raters, template == 'BigBrain'), .(fid), summarize, mean=mean(mean_AFLE), sd=sd(mean_AFLE))\n",
    "summary_sym_df <- ddply(subset(df_raters, template == 'MNI152NLin2009bSym'), .(fid), summarize, mean=mean(mean_AFLE), sd=sd(mean_AFLE))\n",
    "\n",
    "summary_subjects_df[,-1] <- round(summary_subjects_df[,-1],2)\n",
    "summary_subjects_df\n",
    "\n",
    "#summary_bb_afids_df\n",
    "#summary_sym_afids_df"
   ]
  },
  {
   "cell_type": "code",
   "execution_count": 6,
   "metadata": {},
   "outputs": [],
   "source": [
    "# start by calculating mean coordinates\n",
    "df_template_mean <- data.frame(fid=integer(),X=double(),Y=double(),Z=double(),\n",
    "                        template=factor(), name=factor(),description=character(),stringsAsFactors = FALSE)\n",
    "df_template_sd <- data.frame(fid=integer(),X=double(),Y=double(),Z=double(),\n",
    "                        template=factor(), name=factor(),description=character(),stringsAsFactors = FALSE)\n",
    "\n",
    "# iterate over each template and compute the mean and standard deviation\n",
    "for (curr_template in levels(df_raters$template)) {\n",
    "    for (i in 1:32) { # for each AFID32 point, calculate the mean\n",
    "        df_subset <- subset(df_raters, fid == i & template == curr_template)\n",
    "        curr_fid_name <- df_afid$name[i]\n",
    "        curr_fid_desc <- df_afid$description[i]\n",
    "        df_curr_fid <- data.frame(fid = i, X = mean(df_subset$X), Y = mean(df_subset$Y), Z = mean(df_subset$Z),\n",
    "                        template=curr_template, name=curr_fid_name, description=curr_fid_desc)\n",
    "        df_template_mean <- rbind(df_template_mean, df_curr_fid)\n",
    "        df_curr_fid_sd <- data.frame(fid = i, X = sd(df_subset$X), Y = sd(df_subset$Y), Z = sd(df_subset$Z),\n",
    "                        template=curr_template, name=curr_fid_name, description=curr_fid_desc)\n",
    "        df_template_sd <- rbind(df_template_sd, df_curr_fid_sd)\n",
    "    }\n",
    "}\n",
    "\n",
    "##########################################################################################\n",
    "# BigBrain\n",
    "##########################################################################################\n",
    "df_BigBrain_mean <- subset(df_template_mean, template == 'BigBrain')\n",
    "df_BigBrain_fcsv <- data.frame(id=paste('vtkMRMLMarkupsFiducialNode',df_BigBrain_mean$fid,sep=\"_\"),x=df_BigBrain_mean$X,y=df_BigBrain_mean$Y,z=df_BigBrain_mean$Z,\n",
    "                               ow=0,ox=0,oy=0,oz=1,\n",
    "                               vis=1,sel=1,lock=0,label=df_BigBrain_mean$fid,desc=df_afid$description,\n",
    "                               associatedNodeID='vtkMRMLScalarVolumeNode1',stringsAsFactors = FALSE)\n",
    "\n",
    "# write out table (need to use file connection approach because of multiple header lines required by Slicer)\n",
    "fio <- file('~/GitHub/afids-analysis/data/PHASE4_output_afid/BigBrain_MEAN.fcsv', open=\"wt\")\n",
    "  writeLines(paste('# Markups fiducial file version = 4.6'),fio)\n",
    "  writeLines(paste('# CoordinateSystem = 0'),fio)\n",
    "  writeLines(paste('# columns = id,x,y,z,ow,ox,oy,oz,vis,sel,lock,label,desc,associatedNodeID'),fio)\n",
    "  write.table(df_BigBrain_fcsv,fio,sep=',',quote=FALSE,col.names=FALSE,row.names=FALSE)\n",
    "close(fio)\n",
    "\n",
    "##########################################################################################\n",
    "# ICBM2009bSym\n",
    "##########################################################################################\n",
    "df_ICBM2009bSym_mean <- subset(df_template_mean, template == 'MNI152NLin2009bSym')\n",
    "df_ICBM2009bSym_fcsv <- data.frame(id=paste('vtkMRMLMarkupsFiducialNode',df_ICBM2009bSym_mean$fid,sep=\"_\"),x=df_ICBM2009bSym_mean$X,y=df_ICBM2009bSym_mean$Y,z=df_ICBM2009bSym_mean$Z,\n",
    "                               ow=0,ox=0,oy=0,oz=1,\n",
    "                               vis=1,sel=1,lock=0,label=df_ICBM2009bSym_mean$fid,desc=df_afid$description,\n",
    "                               associatedNodeID='vtkMRMLScalarVolumeNode1',stringsAsFactors = FALSE)\n",
    "\n",
    "# write out table (need to use file connection approach because of multiple header lines required by Slicer)\n",
    "fio <- file('~/GitHub/afids-analysis/data/PHASE4_output_afid/MNI152NLin2009bSym_MEAN.fcsv', open=\"wt\")\n",
    "writeLines(paste('# Markups fiducial file version = 4.6'),fio)\n",
    "writeLines(paste('# CoordinateSystem = 0'),fio)\n",
    "writeLines(paste('# columns = id,x,y,z,ow,ox,oy,oz,vis,sel,lock,label,desc,associatedNodeID'),fio)\n",
    "write.table(df_ICBM2009bSym_fcsv,fio,sep=',',quote=FALSE,col.names=FALSE,row.names=FALSE)\n",
    "close(fio)"
   ]
  },
  {
   "cell_type": "markdown",
   "metadata": {},
   "source": [
    "# BigBrainSym versus ICBM2009b Sym\n",
    "\n",
    "BigBrain has been pre-registered to ICBM2009b Sym and available as a package online. Here we evaluated the spatial correspondence between these two templates."
   ]
  },
  {
   "cell_type": "code",
   "execution_count": 7,
   "metadata": {},
   "outputs": [
    {
     "data": {
      "text/html": [
       "'Total: 2.16 +/- 1.99 mm'"
      ],
      "text/latex": [
       "'Total: 2.16 +/- 1.99 mm'"
      ],
      "text/markdown": [
       "'Total: 2.16 +/- 1.99 mm'"
      ],
      "text/plain": [
       "[1] \"Total: 2.16 +/- 1.99 mm\""
      ]
     },
     "metadata": {},
     "output_type": "display_data"
    }
   ],
   "source": [
    "# calculate distances between BigBrainSym and Sym\n",
    "bbsym_vs_sym <- dist3D(df_BigBrain_mean[,2:4],df_ICBM2009bSym_mean[,2:4])\n",
    "\n",
    "sprintf( \"Total: %.2f +/- %.2f mm\",\n",
    "        mean(bbsym_vs_sym), sd(bbsym_vs_sym) )\n",
    "\n",
    "summary_bbsym_vs_sym <- cbind(df_afid, bbsym_vs_sym)\n",
    "names(summary_bbsym_vs_sym)[4] <- 'AFRE'\n",
    "\n",
    "summary_bbsym_vs_sym[,-3:-1] <- round(summary_bbsym_vs_sym[,-3:-1],2)\n",
    "#summary_bbsym_vs_sym"
   ]
  },
  {
   "cell_type": "markdown",
   "metadata": {},
   "source": [
    "## Is there any correlation of the errors reported with FLE?\n",
    "\n",
    "Here we take our computed AFLE values for BigBrain-Sym and ICBM2009b-Sym and find that there is no correlation with the AFRE found."
   ]
  },
  {
   "cell_type": "code",
   "execution_count": 8,
   "metadata": {},
   "outputs": [
    {
     "name": "stderr",
     "output_type": "stream",
     "text": [
      "Warning message in cor.test.default(summary_bbsym_vs_sym$AFRE, summary_bbsym_df$mean, :\n",
      "“Cannot compute exact p-value with ties”"
     ]
    },
    {
     "data": {
      "text/plain": [
       "\n",
       "\tKendall's rank correlation tau\n",
       "\n",
       "data:  summary_bbsym_vs_sym$AFRE and summary_bbsym_df$mean\n",
       "z = -0.37303, p-value = 0.7091\n",
       "alternative hypothesis: true tau is not equal to 0\n",
       "sample estimates:\n",
       "        tau \n",
       "-0.04641778 \n"
      ]
     },
     "metadata": {},
     "output_type": "display_data"
    },
    {
     "name": "stderr",
     "output_type": "stream",
     "text": [
      "Warning message in cor.test.default(summary_bbsym_vs_sym$AFRE, summary_sym_df$mean, :\n",
      "“Cannot compute exact p-value with ties”"
     ]
    },
    {
     "data": {
      "text/plain": [
       "\n",
       "\tKendall's rank correlation tau\n",
       "\n",
       "data:  summary_bbsym_vs_sym$AFRE and summary_sym_df$mean\n",
       "z = 0.56765, p-value = 0.5703\n",
       "alternative hypothesis: true tau is not equal to 0\n",
       "sample estimates:\n",
       "       tau \n",
       "0.07063576 \n"
      ]
     },
     "metadata": {},
     "output_type": "display_data"
    }
   ],
   "source": [
    "#  Is there any correlation of the errors you report with FLE?\n",
    "#plot(summary_bbsym_vs_sym$AFRE, summary_bbsym_df$mean, xlim = c(0,10), ylim = c(0,10))\n",
    "\n",
    "# against BigBrain-Sym AFLE\n",
    "cor.test(summary_bbsym_vs_sym$AFRE, summary_bbsym_df$mean, method = 'kendall')\n",
    "\n",
    "# against ICBM2009b-Sym AFLE\n",
    "cor.test(summary_bbsym_vs_sym$AFRE, summary_sym_df$mean, method = 'kendall')"
   ]
  },
  {
   "cell_type": "code",
   "execution_count": 9,
   "metadata": {},
   "outputs": [
    {
     "data": {},
     "metadata": {},
     "output_type": "display_data"
    },
    {
     "data": {
      "image/png": "[encoded data removed]",
      "text/plain": [
       "plot without title"
      ]
     },
     "metadata": {},
     "output_type": "display_data"
    }
   ],
   "source": [
    "## plot of AFLE and AFRE\n",
    "plot_df <- cbind(summary_bbsym_vs_sym, summary_bbsym_df)\n",
    "ggplot(plot_df, aes(AFRE, mean)) +\n",
    "    geom_point(alpha = 0.6) +\n",
    "    scale_x_continuous(breaks=c(seq(0,10,1))) +\n",
    "    scale_y_continuous(breaks=c(seq(0,10,1))) +\n",
    "    coord_cartesian(xlim=c(0, 10), ylim=c(0, 10)) +\n",
    "    labs(x = \"AFRE (mm)\", y = \"AFLE (mm)\") +\n",
    "    theme_bw()"
   ]
  },
  {
   "cell_type": "markdown",
   "metadata": {},
   "source": [
    "# BigBrainSym versus ICBM2009b Asym\n",
    "\n",
    "Here we evaluated the spatial correspondence between BigBrainSym and MNI2009bAsym (asymmetric) knowing that BigBrainSym was registered to MNI2009bSym rather than MNI2009bAsym. AFRE should be higher than for MNI2009bSym."
   ]
  },
  {
   "cell_type": "code",
   "execution_count": 10,
   "metadata": {},
   "outputs": [
    {
     "data": {
      "text/html": [
       "'Total: 2.30 +/- 1.83 mm'"
      ],
      "text/latex": [
       "'Total: 2.30 +/- 1.83 mm'"
      ],
      "text/markdown": [
       "'Total: 2.30 +/- 1.83 mm'"
      ],
      "text/plain": [
       "[1] \"Total: 2.30 +/- 1.83 mm\""
      ]
     },
     "metadata": {},
     "output_type": "display_data"
    }
   ],
   "source": [
    "# calculate distances between BigBrainSym and Sym\n",
    "bbsym_vs_asym <- dist3D(df_BigBrain_mean[,2:4],df_ICBM2009bAsym_mean[,2:4])\n",
    "\n",
    "sprintf( \"Total: %.2f +/- %.2f mm\",\n",
    "        mean(bbsym_vs_asym), sd(bbsym_vs_asym) )\n",
    "\n",
    "summary_bbsym_vs_asym <- cbind(df_afid, bbsym_vs_asym)\n",
    "names(summary_bbsym_vs_asym)[4] <- 'AFRE'\n",
    "\n",
    "summary_bbsym_vs_asym[,-3:-1] <- round(summary_bbsym_vs_asym[,-3:-1],2)\n",
    "#summary_bbsym_vs_asym"
   ]
  },
  {
   "cell_type": "markdown",
   "metadata": {},
   "source": [
    "# ICBM2009b: Sym versus Asym\n",
    "\n",
    "Here we evaluated the distance between AFIDs for ICBM2009b sym and asym templates. Note that calling the difference AFRE is not technically correct as the two templates are not aligned to one another. However, the syntax was kept the same for simplicity."
   ]
  },
  {
   "cell_type": "code",
   "execution_count": 11,
   "metadata": {},
   "outputs": [
    {
     "data": {
      "text/html": [
       "'Total: 0.88 +/- 0.68 mm'"
      ],
      "text/latex": [
       "'Total: 0.88 +/- 0.68 mm'"
      ],
      "text/markdown": [
       "'Total: 0.88 +/- 0.68 mm'"
      ],
      "text/plain": [
       "[1] \"Total: 0.88 +/- 0.68 mm\""
      ]
     },
     "metadata": {},
     "output_type": "display_data"
    }
   ],
   "source": [
    "# calculate distances between asym and sym\n",
    "asym_vs_sym <- dist3D(df_ICBM2009bAsym_mean[,2:4],df_ICBM2009bSym_mean[,2:4])\n",
    "\n",
    "sprintf( \"Total: %.2f +/- %.2f mm\",\n",
    "        mean(asym_vs_sym), sd(asym_vs_sym) )\n",
    "\n",
    "summary_asym_vs_sym <- cbind(df_afid, asym_vs_sym)\n",
    "names(summary_asym_vs_sym)[4] <- 'AFRE'\n",
    "\n",
    "summary_asym_vs_sym[,-3:-1] <- round(summary_asym_vs_sym[,-3:-1],2)\n",
    "#summary_asym_vs_sym"
   ]
  },
  {
   "cell_type": "markdown",
   "metadata": {},
   "source": [
    "## Is there any correlation of the errors reported with FLE?\n",
    "\n",
    "Here we take our computed AFLE values for ICBM2009b-Asym and ICBM2009b-Sym and find that there is no correlation with the AFRE found."
   ]
  },
  {
   "cell_type": "code",
   "execution_count": 12,
   "metadata": {},
   "outputs": [
    {
     "name": "stderr",
     "output_type": "stream",
     "text": [
      "Warning message in cor.test.default(summary_asym_vs_sym$AFRE, summary_sym_df$mean, :\n",
      "“Cannot compute exact p-value with ties”"
     ]
    },
    {
     "data": {
      "text/plain": [
       "\n",
       "\tKendall's rank correlation tau\n",
       "\n",
       "data:  summary_asym_vs_sym$AFRE and summary_sym_df$mean\n",
       "z = 1.687, p-value = 0.09161\n",
       "alternative hypothesis: true tau is not equal to 0\n",
       "sample estimates:\n",
       "      tau \n",
       "0.2101014 \n"
      ]
     },
     "metadata": {},
     "output_type": "display_data"
    }
   ],
   "source": [
    "#  Is there any correlation of the errors you report with FLE?\n",
    "# against ICBM2009b-Sym AFLE\n",
    "cor.test(summary_asym_vs_sym$AFRE, summary_sym_df$mean, method = 'kendall')"
   ]
  },
  {
   "cell_type": "code",
   "execution_count": 13,
   "metadata": {},
   "outputs": [
    {
     "data": {},
     "metadata": {},
     "output_type": "display_data"
    },
    {
     "data": {
      "image/png": "[encoded data removed]",
      "text/plain": [
       "plot without title"
      ]
     },
     "metadata": {},
     "output_type": "display_data"
    }
   ],
   "source": [
    "# plot\n",
    "#plot(summary_asym_vs_sym$AFRE, summary_sym_df$mean, xlim = c(0,3), ylim = c(0,3))\n",
    "## plot of AFLE and AFRE\n",
    "plot_df <- cbind(summary_asym_vs_sym, summary_sym_df)\n",
    "ggplot(plot_df, aes(AFRE, mean)) +\n",
    "    geom_point(alpha = 0.6) +\n",
    "    scale_x_continuous(breaks=c(seq(0,3,1))) +\n",
    "    scale_y_continuous(breaks=c(seq(0,3,1))) +\n",
    "    coord_cartesian(xlim=c(0, 3), ylim=c(0, 3)) +\n",
    "    labs(x = \"AFRE (mm)\", y = \"AFLE (mm)\") +\n",
    "    theme_bw()"
   ]
  },
  {
   "cell_type": "code",
   "execution_count": 14,
   "metadata": {},
   "outputs": [
    {
     "data": {
      "text/html": [
       "<table>\n",
       "<thead><tr><th></th><th scope=col>AFID</th><th scope=col>Description</th><th scope=col>AFRE for BigBrainSym vs MNI2009bSym</th><th scope=col>Star: BigBrain and Sym</th><th scope=col>AFRE for BigBrainSym vs MNI2009bAsym</th><th scope=col>Star: BigBrain and Asym</th><th scope=col>AFRE for MNI2009b: Asym vs Sym</th><th scope=col>Star: Asym vs Sym</th></tr></thead>\n",
       "<tbody>\n",
       "\t<tr><th scope=row>3</th><td>03                         </td><td>infracollicular sulcus     </td><td>6.36                       </td><td>*                          </td><td>5.48                       </td><td>*                          </td><td>0.98                       </td><td>                           </td></tr>\n",
       "\t<tr><th scope=row>9</th><td>09                         </td><td>L inferior LMS             </td><td>2.78                       </td><td>*                          </td><td>2.48                       </td><td>*                          </td><td>0.68                       </td><td>                           </td></tr>\n",
       "\t<tr><th scope=row>10</th><td>10                         </td><td>culmen                     </td><td>9.27                       </td><td>*                          </td><td>9.39                       </td><td>*                          </td><td>0.21                       </td><td>                           </td></tr>\n",
       "\t<tr><th scope=row>14</th><td>14                         </td><td>pineal gland               </td><td>4.42                       </td><td>*                          </td><td>4.16                       </td><td>*                          </td><td>0.41                       </td><td>                           </td></tr>\n",
       "\t<tr><th scope=row>16</th><td>16                         </td><td>L LV at AC                 </td><td>2.05                       </td><td>*                          </td><td>1.22                       </td><td>                           </td><td>0.86                       </td><td>                           </td></tr>\n",
       "\t<tr><th scope=row>20</th><td>20                         </td><td>splenium                   </td><td>2.23                       </td><td>*                          </td><td>2.20                       </td><td>*                          </td><td>0.10                       </td><td>                           </td></tr>\n",
       "\t<tr><th scope=row>22</th><td>22                         </td><td>L AL temporal horn         </td><td>4.69                       </td><td>*                          </td><td>3.44                       </td><td>*                          </td><td>2.45                       </td><td>*                          </td></tr>\n",
       "\t<tr><th scope=row>26</th><td>26                         </td><td>L inferior AM temporal horn</td><td>1.88                       </td><td>                           </td><td>2.58                       </td><td>*                          </td><td>0.98                       </td><td>                           </td></tr>\n",
       "\t<tr><th scope=row>27</th><td>27                         </td><td>R indusium griseum origin  </td><td>1.21                       </td><td>                           </td><td>3.60                       </td><td>*                          </td><td>2.81                       </td><td>*                          </td></tr>\n",
       "\t<tr><th scope=row>28</th><td>28                         </td><td>L indusium griseum origin  </td><td>0.74                       </td><td>                           </td><td>2.88                       </td><td>*                          </td><td>2.29                       </td><td>*                          </td></tr>\n",
       "\t<tr><th scope=row>29</th><td>29                         </td><td>R ventral occipital horn   </td><td>2.54                       </td><td>*                          </td><td>3.99                       </td><td>*                          </td><td>1.63                       </td><td>                           </td></tr>\n",
       "\t<tr><th scope=row>30</th><td>30                         </td><td>L ventral occipital horn   </td><td>5.88                       </td><td>*                          </td><td>4.22                       </td><td>*                          </td><td>2.00                       </td><td>*                          </td></tr>\n",
       "\t<tr><th scope=row>31</th><td>31                         </td><td>R olfactory sulcal fundus  </td><td>2.62                       </td><td>*                          </td><td>1.84                       </td><td>                           </td><td>1.10                       </td><td>                           </td></tr>\n",
       "\t<tr><th scope=row>32</th><td>32                         </td><td>L olfactory sulcal fundus  </td><td>3.06                       </td><td>*                          </td><td>4.21                       </td><td>*                          </td><td>1.24                       </td><td>                           </td></tr>\n",
       "</tbody>\n",
       "</table>\n"
      ],
      "text/latex": [
       "\\begin{tabular}{r|llllllll}\n",
       "  & AFID & Description & AFRE for BigBrainSym vs MNI2009bSym & Star: BigBrain and Sym & AFRE for BigBrainSym vs MNI2009bAsym & Star: BigBrain and Asym & AFRE for MNI2009b: Asym vs Sym & Star: Asym vs Sym\\\\\n",
       "\\hline\n",
       "\t3 & 03                          & infracollicular sulcus      & 6.36                        & *                           & 5.48                        & *                           & 0.98                        &                            \\\\\n",
       "\t9 & 09                          & L inferior LMS              & 2.78                        & *                           & 2.48                        & *                           & 0.68                        &                            \\\\\n",
       "\t10 & 10                          & culmen                      & 9.27                        & *                           & 9.39                        & *                           & 0.21                        &                            \\\\\n",
       "\t14 & 14                          & pineal gland                & 4.42                        & *                           & 4.16                        & *                           & 0.41                        &                            \\\\\n",
       "\t16 & 16                          & L LV at AC                  & 2.05                        & *                           & 1.22                        &                             & 0.86                        &                            \\\\\n",
       "\t20 & 20                          & splenium                    & 2.23                        & *                           & 2.20                        & *                           & 0.10                        &                            \\\\\n",
       "\t22 & 22                          & L AL temporal horn          & 4.69                        & *                           & 3.44                        & *                           & 2.45                        & *                          \\\\\n",
       "\t26 & 26                          & L inferior AM temporal horn & 1.88                        &                             & 2.58                        & *                           & 0.98                        &                            \\\\\n",
       "\t27 & 27                          & R indusium griseum origin   & 1.21                        &                             & 3.60                        & *                           & 2.81                        & *                          \\\\\n",
       "\t28 & 28                          & L indusium griseum origin   & 0.74                        &                             & 2.88                        & *                           & 2.29                        & *                          \\\\\n",
       "\t29 & 29                          & R ventral occipital horn    & 2.54                        & *                           & 3.99                        & *                           & 1.63                        &                            \\\\\n",
       "\t30 & 30                          & L ventral occipital horn    & 5.88                        & *                           & 4.22                        & *                           & 2.00                        & *                          \\\\\n",
       "\t31 & 31                          & R olfactory sulcal fundus   & 2.62                        & *                           & 1.84                        &                             & 1.10                        &                            \\\\\n",
       "\t32 & 32                          & L olfactory sulcal fundus   & 3.06                        & *                           & 4.21                        & *                           & 1.24                        &                            \\\\\n",
       "\\end{tabular}\n"
      ],
      "text/markdown": [
       "\n",
       "| <!--/--> | AFID | Description | AFRE for BigBrainSym vs MNI2009bSym | Star: BigBrain and Sym | AFRE for BigBrainSym vs MNI2009bAsym | Star: BigBrain and Asym | AFRE for MNI2009b: Asym vs Sym | Star: Asym vs Sym | \n",
       "|---|---|---|---|---|---|---|---|---|---|---|---|---|---|\n",
       "| 3 | 03                          | infracollicular sulcus      | 6.36                        | *                           | 5.48                        | *                           | 0.98                        |                             | \n",
       "| 9 | 09                          | L inferior LMS              | 2.78                        | *                           | 2.48                        | *                           | 0.68                        |                             | \n",
       "| 10 | 10                          | culmen                      | 9.27                        | *                           | 9.39                        | *                           | 0.21                        |                             | \n",
       "| 14 | 14                          | pineal gland                | 4.42                        | *                           | 4.16                        | *                           | 0.41                        |                             | \n",
       "| 16 | 16                          | L LV at AC                  | 2.05                        | *                           | 1.22                        |                             | 0.86                        |                             | \n",
       "| 20 | 20                          | splenium                    | 2.23                        | *                           | 2.20                        | *                           | 0.10                        |                             | \n",
       "| 22 | 22                          | L AL temporal horn          | 4.69                        | *                           | 3.44                        | *                           | 2.45                        | *                           | \n",
       "| 26 | 26                          | L inferior AM temporal horn | 1.88                        |                             | 2.58                        | *                           | 0.98                        |                             | \n",
       "| 27 | 27                          | R indusium griseum origin   | 1.21                        |                             | 3.60                        | *                           | 2.81                        | *                           | \n",
       "| 28 | 28                          | L indusium griseum origin   | 0.74                        |                             | 2.88                        | *                           | 2.29                        | *                           | \n",
       "| 29 | 29                          | R ventral occipital horn    | 2.54                        | *                           | 3.99                        | *                           | 1.63                        |                             | \n",
       "| 30 | 30                          | L ventral occipital horn    | 5.88                        | *                           | 4.22                        | *                           | 2.00                        | *                           | \n",
       "| 31 | 31                          | R olfactory sulcal fundus   | 2.62                        | *                           | 1.84                        |                             | 1.10                        |                             | \n",
       "| 32 | 32                          | L olfactory sulcal fundus   | 3.06                        | *                           | 4.21                        | *                           | 1.24                        |                             | \n",
       "\n",
       "\n"
      ],
      "text/plain": [
       "   AFID Description                 AFRE for BigBrainSym vs MNI2009bSym\n",
       "3  03   infracollicular sulcus      6.36                               \n",
       "9  09   L inferior LMS              2.78                               \n",
       "10 10   culmen                      9.27                               \n",
       "14 14   pineal gland                4.42                               \n",
       "16 16   L LV at AC                  2.05                               \n",
       "20 20   splenium                    2.23                               \n",
       "22 22   L AL temporal horn          4.69                               \n",
       "26 26   L inferior AM temporal horn 1.88                               \n",
       "27 27   R indusium griseum origin   1.21                               \n",
       "28 28   L indusium griseum origin   0.74                               \n",
       "29 29   R ventral occipital horn    2.54                               \n",
       "30 30   L ventral occipital horn    5.88                               \n",
       "31 31   R olfactory sulcal fundus   2.62                               \n",
       "32 32   L olfactory sulcal fundus   3.06                               \n",
       "   Star: BigBrain and Sym AFRE for BigBrainSym vs MNI2009bAsym\n",
       "3  *                      5.48                                \n",
       "9  *                      2.48                                \n",
       "10 *                      9.39                                \n",
       "14 *                      4.16                                \n",
       "16 *                      1.22                                \n",
       "20 *                      2.20                                \n",
       "22 *                      3.44                                \n",
       "26                        2.58                                \n",
       "27                        3.60                                \n",
       "28                        2.88                                \n",
       "29 *                      3.99                                \n",
       "30 *                      4.22                                \n",
       "31 *                      1.84                                \n",
       "32 *                      4.21                                \n",
       "   Star: BigBrain and Asym AFRE for MNI2009b: Asym vs Sym Star: Asym vs Sym\n",
       "3  *                       0.98                                            \n",
       "9  *                       0.68                                            \n",
       "10 *                       0.21                                            \n",
       "14 *                       0.41                                            \n",
       "16                         0.86                                            \n",
       "20 *                       0.10                                            \n",
       "22 *                       2.45                           *                \n",
       "26 *                       0.98                                            \n",
       "27 *                       2.81                           *                \n",
       "28 *                       2.29                           *                \n",
       "29 *                       1.63                                            \n",
       "30 *                       2.00                           *                \n",
       "31                         1.10                                            \n",
       "32 *                       1.24                                            "
      ]
     },
     "metadata": {},
     "output_type": "display_data"
    }
   ],
   "source": [
    "summary_table <- merge(summary_bbsym_vs_sym, summary_bbsym_vs_asym, by=c('name'))\n",
    "summary_table <- merge(summary_table, summary_asym_vs_sym, by=c('name'))\n",
    "\n",
    "summary_table <- summary_table[,c(1,2,4,7,10)]\n",
    "summary_table$bbsym_sym_star <- ifelse( summary_table[,3] >= 2, '*', '')\n",
    "summary_table$bbsym_asym_star <- ifelse( summary_table[,4] >= 2, '*', '')\n",
    "summary_table$sym_asym_star <- ifelse( summary_table[,5] >= 2, '*', '')\n",
    "names(summary_table) <- c('AFID','Description', 'AFRE for BigBrainSym vs MNI2009bSym', 'AFRE for BigBrainSym vs MNI2009bAsym', 'AFRE for MNI2009b: Asym vs Sym', 'Star: BigBrain and Sym', 'Star: BigBrain and Asym', 'Star: Asym vs Sym' )\n",
    "summary_table$AFID <- sprintf( \"%02d\", summary_table$AFID )\n",
    "summary_table <- summary_table[,c(1,2,3,6,4,7,5,8)]\n",
    "\n",
    "summary_table_filtered <- summary_table[summary_table[,3] > 2 | summary_table[,5] > 2 | summary_table[,7] > 2,]\n",
    "summary_table_filtered\n",
    "\n",
    "write.table(summary_table_filtered, file = \"~/GitHub/afids-analysis/data/output_tables/PHASE4_template_to_template_AFRE_filtered.csv\", row.names = FALSE, quote = FALSE, sep = \",\")\n"
   ]
  },
  {
   "cell_type": "code",
   "execution_count": 15,
   "metadata": {},
   "outputs": [
    {
     "data": {
      "text/plain": [
       "R version 3.5.1 (2018-07-02)\n",
       "Platform: x86_64-apple-darwin14.5.0 (64-bit)\n",
       "Running under: macOS High Sierra 10.13.2\n",
       "\n",
       "Matrix products: default\n",
       "BLAS: /System/Library/Frameworks/Accelerate.framework/Versions/A/Frameworks/vecLib.framework/Versions/A/libBLAS.dylib\n",
       "LAPACK: /System/Library/Frameworks/Accelerate.framework/Versions/A/Frameworks/vecLib.framework/Versions/A/libLAPACK.dylib\n",
       "\n",
       "locale:\n",
       "[1] en_CA.UTF-8/en_CA.UTF-8/en_CA.UTF-8/C/en_CA.UTF-8/en_CA.UTF-8\n",
       "\n",
       "attached base packages:\n",
       "[1] stats     graphics  grDevices utils     datasets  methods   base     \n",
       "\n",
       "other attached packages:\n",
       "[1] ggplot2_3.0.0  reshape2_1.4.3 digest_0.6.16  plyr_1.8.4    \n",
       "\n",
       "loaded via a namespace (and not attached):\n",
       " [1] Rcpp_0.12.17     bindr_0.1.1      magrittr_1.5     tidyselect_0.2.4\n",
       " [5] munsell_0.5.0    uuid_0.1-2       colorspace_1.3-2 R6_2.2.2        \n",
       " [9] rlang_0.2.1      dplyr_0.7.6      stringr_1.3.1    tools_3.5.1     \n",
       "[13] grid_3.5.1       gtable_0.2.0     withr_2.1.2      htmltools_0.3.6 \n",
       "[17] assertthat_0.2.0 lazyeval_0.2.1   tibble_1.4.2     crayon_1.3.4    \n",
       "[21] bindrcpp_0.2.2   IRdisplay_0.5.0  purrr_0.2.5      repr_0.15.0     \n",
       "[25] base64enc_0.1-3  IRkernel_0.8.12  glue_1.3.0       evaluate_0.11   \n",
       "[29] pbdZMQ_0.3-3     stringi_1.2.4    pillar_1.3.0     compiler_3.5.1  \n",
       "[33] scales_1.0.0     jsonlite_1.5     pkgconfig_2.0.2 "
      ]
     },
     "metadata": {},
     "output_type": "display_data"
    }
   ],
   "source": [
    "sessionInfo()"
   ]
  }
 ],
 "metadata": {
  "kernelspec": {
   "display_name": "R",
   "language": "R",
   "name": "ir"
  },
  "language_info": {
   "codemirror_mode": "r",
   "file_extension": ".r",
   "mimetype": "text/x-r-source",
   "name": "R",
   "pygments_lexer": "r",
   "version": "3.5.1"
  }
 },
 "nbformat": 4,
 "nbformat_minor": 2
}
